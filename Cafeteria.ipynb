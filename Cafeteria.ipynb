{
  "nbformat": 4,
  "nbformat_minor": 0,
  "metadata": {
    "colab": {
      "provenance": [],
      "authorship_tag": "ABX9TyMwemOV8eDLBdc8pBiUcmhu",
      "include_colab_link": true
    },
    "kernelspec": {
      "name": "python3",
      "display_name": "Python 3"
    },
    "language_info": {
      "name": "python"
    }
  },
  "cells": [
    {
      "cell_type": "markdown",
      "metadata": {
        "id": "view-in-github",
        "colab_type": "text"
      },
      "source": [
        "<a href=\"https://colab.research.google.com/github/abrilaragon97/prograara/blob/main/Cafeteria.ipynb\" target=\"_parent\"><img src=\"https://colab.research.google.com/assets/colab-badge.svg\" alt=\"Open In Colab\"/></a>"
      ]
    },
    {
      "cell_type": "code",
      "execution_count": 2,
      "metadata": {
        "id": "bQeb8YAv4kVW"
      },
      "outputs": [],
      "source": [
        "class Persona:\n",
        "  def __init__(self, nombre, id_P):\n",
        "    self.nombre = nombre\n",
        "    self.id_P = id_P\n",
        "\n",
        "  def datos(self):\n",
        "    print(f\"Nombre: {self.nombre}\")\n",
        "    print(f\"ID: {self.id_P}\")\n",
        "\n",
        "  def __str__(self):\n",
        "    return f\"Nombre: {self.nombre}, ID: {self.id_P}\""
      ]
    },
    {
      "cell_type": "code",
      "source": [
        "p1 = Persona(\"Juan\", 3001)\n",
        "p2 = Persona(\"Maria\", 3002)\n",
        "p1.datos()\n",
        "p2.datos()"
      ],
      "metadata": {
        "colab": {
          "base_uri": "https://localhost:8080/"
        },
        "id": "5gFlfZA15jEs",
        "outputId": "289b3743-7f37-4fec-a801-44b622a9cc71"
      },
      "execution_count": 3,
      "outputs": [
        {
          "output_type": "stream",
          "name": "stdout",
          "text": [
            "Nombre: Juan\n",
            "ID: 3001\n",
            "Nombre: Maria\n",
            "ID: 3002\n"
          ]
        }
      ]
    },
    {
      "cell_type": "code",
      "source": [
        "class Empleado(Persona):\n",
        "  rol_valido = [\"mesero\", \"barista\", \"gerente\"]\n",
        "  def __init__(self, nombre, id_P, rol):\n",
        "    super().__init__(nombre, id_P)\n",
        "    if rol.lower() not in Empleado.rol_valido:\n",
        "        raise ValueError(f\"Rol de empleado no valido. Los roles validos son: {Empleado.rol_valido}\")\n",
        "    self.rol = rol.lower()\n",
        "\n",
        "  def datos(self):\n",
        "    super().datos()\n",
        "    print(f\"Rol: {self.rol}\")\n",
        "\n",
        "  def abrir_invetario(self):\n",
        "    print(\"Abriendo inventario...\")\n",
        "\n",
        "  def actualizar_inventario(self, inventario, producto_nombre, cantidad_cambio):\n",
        "    if self.rol in [\"gerente\", \"barista\"]:\n",
        "      inventario.actualizar_stock(producto_nombre, cantidad_cambio)\n",
        "      print(f\"Inventario actualizado por {self.nombre}, ({self.rol}): {producto_nombre} - Cambio: {cantidad_cambio}\")\n",
        "    else:\n",
        "      print(f\"El empleado {self.nombre}, ({self.rol}) no tiene permisos para actualizar el inventario.\")\n",
        "\n",
        "  def __str__(self):\n",
        "    empleado_info = super().__str__()\n",
        "    return (f\"Empleado: {empleado_info} - Rol: {self.rol.capitalize()}\")\n",
        "\n",
        "  def cerrar_inventario(self):\n",
        "    print(\"Cerrando inventario...\")"
      ],
      "metadata": {
        "id": "eDZCNIh85CvQ"
      },
      "execution_count": 4,
      "outputs": []
    },
    {
      "cell_type": "code",
      "source": [
        "e1 = Empleado(\"Juan\", 2005, \"Gerente\")\n",
        "e1.datos()\n",
        "e1.abrir_invetario()\n",
        "e1.actualizar_inventario(i2, \"Pastel zanahoria\", 5)\n",
        "e1.cerrar_inventario()"
      ],
      "metadata": {
        "colab": {
          "base_uri": "https://localhost:8080/"
        },
        "id": "nqW06KBJ5ihd",
        "outputId": "ed34292c-0273-439a-c1a5-81c08d3867cc"
      },
      "execution_count": 17,
      "outputs": [
        {
          "output_type": "stream",
          "name": "stdout",
          "text": [
            "Nombre: Juan\n",
            "ID: 2005\n",
            "Rol: gerente\n",
            "Abriendo inventario...\n",
            "Inventario de Pastel zanahoria actualizado. Cambio: 5. Stock actual: 30\n",
            "Inventario actualizado por Juan, (gerente): Pastel zanahoria - Cambio: 5\n",
            "Cerrando inventario...\n"
          ]
        }
      ]
    },
    {
      "cell_type": "code",
      "source": [
        "class Cliente(Persona):\n",
        "    def __init__(self, nombre, id_P):\n",
        "        super().__init__(nombre, id_P)\n",
        "        self.historial_pedidos = []\n",
        "        self.puntos_frecuente = 0\n",
        "        self.puntos = 0\n",
        "\n",
        "    def datos(self):\n",
        "        super().datos()\n",
        "        print(f\"Nombre: {self.nombre} ID: {self.id_P}\")\n",
        "\n",
        "    def hacer_pedido(self, pedido):\n",
        "        self.historial_pedidos.append(pedido)\n",
        "        print(f\"Pedido realizado por {self.nombre}: {pedido}\")\n",
        "\n",
        "    def actualizar_pedido(self):\n",
        "        actualizar_pedido = input(\"¿Desea actualizar su pedido? (s/n): \")\n",
        "        if actualizar_pedido.lower() == \"s\":\n",
        "            nuevo_pedido = input(\"Ingrese el nuevo pedido: \")\n",
        "            self.historial_pedidos[-1] = nuevo_pedido\n",
        "            print(f\"Pedido actualizado por {self.nombre}: {nuevo_pedido}\")\n",
        "        else:\n",
        "            print(\"Pedido no actualizado.\")\n",
        "\n",
        "    def mostrar_historial_pedidos(self):\n",
        "        if not self.historial_pedidos:\n",
        "            return print(\"No hay historial de pedidos para este cliente.\")\n",
        "        print(\"Historial de Pedidos:\")\n",
        "        for pedido in self.historial_pedidos:\n",
        "            print(pedido)\n",
        "\n",
        "    def confirmar_pedido(self):\n",
        "        confirmar_pedido = input(\"¿Desea confirmar su pedido?:\")\n",
        "        if confirmar_pedido.lower() == \"si\":\n",
        "            print(\"Pedido confirmado.\")\n",
        "            return True\n",
        "        else:\n",
        "            print(\"Pedido cancelado.\")\n",
        "            return False\n",
        "\n",
        "    def acumular_puntos(self, puntos):\n",
        "        self.puntos_frecuente += puntos\n",
        "        print(f\"Cliente {self.nombre} ha ganado {puntos} puntos. Total: {self.puntos_frecuente}\")\n",
        "\n",
        "    def canjear_puntos(self, puntos_a_canjear):\n",
        "        if self.puntos_frecuente >= puntos_a_canjear:\n",
        "            self.puntos_frecuente -= puntos_a_canjear\n",
        "            descuento = puntos_a_canjear / 10\n",
        "            print(f\"Cliente {self.nombre} ha canjeado {puntos_a_canjear} puntos por {descuento} de descuento.\")\n",
        "            return descuento\n",
        "        else:\n",
        "            print(f\"Cliente {self.nombre} no tiene suficientes puntos para canjear.\")\n",
        "            return 0\n",
        "\n",
        "    def __str__(self):\n",
        "        cliente_info = super().__str__()\n",
        "        return (f\"Cliente: {cliente_info} - Puntos: {self.puntos}\")"
      ],
      "metadata": {
        "id": "qli_hk_H66o5"
      },
      "execution_count": 63,
      "outputs": []
    },
    {
      "cell_type": "code",
      "source": [
        "c1 = Cliente(\"Maria\", 3002)\n",
        "c1.datos()\n",
        "c1.hacer_pedido(pedido= \"Cafe americano\")\n",
        "c1.confirmar_pedido()\n",
        "c1.mostrar_historial_pedidos()\n",
        "c1.canjear_puntos(10)"
      ],
      "metadata": {
        "colab": {
          "base_uri": "https://localhost:8080/"
        },
        "id": "jW2tgqiJ9VQg",
        "outputId": "ea9daa99-3415-4114-9699-d99551f1a1ee"
      },
      "execution_count": 7,
      "outputs": [
        {
          "output_type": "stream",
          "name": "stdout",
          "text": [
            "Nombre: Maria\n",
            "ID: 3002\n",
            "Nombre: Maria ID: 3002\n",
            "Pedido realizado por Maria: Cafe americano\n",
            "¿Desea confirmar su pedido?:si\n",
            "Pedido confirmado.\n",
            "Historial de Pedidos:\n",
            "Cafe americano\n",
            "Cliente Maria no tiene suficientes puntos para canjear.\n"
          ]
        },
        {
          "output_type": "execute_result",
          "data": {
            "text/plain": [
              "0"
            ]
          },
          "metadata": {},
          "execution_count": 7
        }
      ]
    },
    {
      "cell_type": "code",
      "source": [
        "class ProductoBase:\n",
        "  def __init__(self, nombre, precio):\n",
        "    self.nombre = nombre\n",
        "    self.precio = precio\n",
        "\n",
        "  def datos(self):\n",
        "    print(f\"Nombre: {self.nombre}\")\n",
        "    print(f\"Precio: {self.precio} pesos\")"
      ],
      "metadata": {
        "id": "79qAJbzFvJex"
      },
      "execution_count": 8,
      "outputs": []
    },
    {
      "cell_type": "code",
      "source": [
        "pb1 = ProductoBase(\"Cafe americano\", 50)\n",
        "pb1.datos()"
      ],
      "metadata": {
        "colab": {
          "base_uri": "https://localhost:8080/"
        },
        "id": "2BmZAlR1v9Vt",
        "outputId": "7d616372-655b-46e9-c67e-c899bcda9c12"
      },
      "execution_count": 9,
      "outputs": [
        {
          "output_type": "stream",
          "name": "stdout",
          "text": [
            "Nombre: Cafe americano\n",
            "Precio: 50 pesos\n"
          ]
        }
      ]
    },
    {
      "cell_type": "code",
      "source": [
        "class Bebida(ProductoBase):\n",
        "  tamaños = [\"Pequeña\", \"Mediana\", \"Grande\"]\n",
        "  tipo = [\"Caliente\", \"Frio\"]\n",
        "  extras = {\"Extra leche\": 5, \"Sin azucar\": 0, \"Leche almendra\": 7, \"Leche de coco\": 7}\n",
        "  def __init__(self, nombre, precio, tamaño, tipo, extras):\n",
        "    super().__init__(nombre, precio)\n",
        "    if tamaño.capitalize() not in Bebida.tamaños:\n",
        "      raise ValueError(f\"Tamaño no valido. Los tamaños validos son: {Bebida.tamaños}\")\n",
        "    if tipo.capitalize() not in Bebida.tipo:\n",
        "      raise ValueError(f\"Tipo no valido. Los tipos validos son: {Bebida.tipo}\")\n",
        "    self.tamaño = tamaño.capitalize()\n",
        "    self.tipo = tipo.capitalize()\n",
        "    self.extras = {}\n",
        "\n",
        "  def datos(self):\n",
        "    super().datos()\n",
        "    print(f\"Tamaño: {self.tamaño}\")\n",
        "    print(f\"Tipo: {self.tipo}\")\n",
        "    print(f\"Extras: {self.extras}\")\n",
        "\n",
        "  def aplicar_extra(self, extra, precio_extra):\n",
        "    if extra in Bebida.extras:\n",
        "      if extra not in self.extras:\n",
        "        self.extras[extra] = precio_extra\n",
        "        print(f\"Se ha agregado el extra '{extra}' al pedido.\")\n",
        "      else:\n",
        "        print(f\"El extra '{extra}' ya se agrego al pedido.\")\n",
        "    else:\n",
        "      print(f\"El extra '{extra}' no esta disponible.\")\n",
        "    if self.tamaño.capitalize() not in Bebida.tamaños:\n",
        "      raise ValueError(f\"Tamaño no valido. Los tamaños validos son: {Bebida.tamaños}\")\n",
        "    if self.tipo.capitalize() not in Bebida.tipo:\n",
        "      raise ValueError(f\"Tipo no valido. Los tipos validos son: {Bebida.tipo}\")\n",
        "\n",
        "  def datos(self):\n",
        "    super().datos()\n",
        "    print(f\"Tamaño: {self.tamaño}\")\n",
        "    print(f\"Tipo: {self.tipo}\")\n",
        "    print(f\"Extras: {self.extras}\")\n",
        "\n",
        "  def agregar_extra(self, extra):\n",
        "    if extra in Bebida.extras:\n",
        "      if extra not in self.extras:\n",
        "        self.extras[extra] = Bebida.extras[extra]\n",
        "        print(f\"Se ha agregado el extra '{extra}' al pedido.\")\n",
        "      else:\n",
        "        print(f\"El extra '{extra}' ya se agrego al pedido.\")\n",
        "    else:\n",
        "      print(f\"El extra '{extra}' no esta disponible.\")\n",
        "  def eliminar_extra(self, extra):\n",
        "    if extra in self.extras:\n",
        "      del self.extras[extra]\n",
        "      print(f\"Se ha eliminado el extra '{extra}' del pedido.\")\n",
        "\n",
        "  def calcular_total(self):\n",
        "    total = self.precio\n",
        "    for extra, precio_extra in self.extras.items():\n",
        "      total += precio_extra\n",
        "    if self.tamaño == \"Mediana\":\n",
        "        total += 10\n",
        "    elif self.tamaño == \"Grande\":\n",
        "        total += 15\n",
        "    return total\n",
        "    print (f\"Total: {total}\")\n",
        "\n",
        "  def __str__(self):\n",
        "    bebida_info = super().__str__()\n",
        "    return (f\"Bebida: {bebida_info} - Tamaño: {self.tamaño} - Tipo: {self.tipo} - Extras: {self.extras}\")"
      ],
      "metadata": {
        "id": "CjkJjAen2ygV"
      },
      "execution_count": 10,
      "outputs": []
    },
    {
      "cell_type": "code",
      "source": [
        "b1 = Bebida(\"Cafe americano\", 50, \"Grande\", \"Frio\", {\"Extra leche\": 5})\n",
        "b1.datos()\n",
        "b1.aplicar_extra(\"Extra leche\", 5)\n",
        "b1.aplicar_extra(\"Sin azucar\", 0)\n",
        "b1.calcular_total()"
      ],
      "metadata": {
        "colab": {
          "base_uri": "https://localhost:8080/"
        },
        "id": "rgM4bJiX3QxG",
        "outputId": "f84ebc64-3a44-49db-d51e-39546b973d9d"
      },
      "execution_count": 11,
      "outputs": [
        {
          "output_type": "stream",
          "name": "stdout",
          "text": [
            "Nombre: Cafe americano\n",
            "Precio: 50 pesos\n",
            "Tamaño: Grande\n",
            "Tipo: Frio\n",
            "Extras: {}\n",
            "Se ha agregado el extra 'Extra leche' al pedido.\n",
            "Se ha agregado el extra 'Sin azucar' al pedido.\n"
          ]
        },
        {
          "output_type": "execute_result",
          "data": {
            "text/plain": [
              "70"
            ]
          },
          "metadata": {},
          "execution_count": 11
        }
      ]
    },
    {
      "cell_type": "code",
      "source": [
        "class Postre(ProductoBase):\n",
        "  tipos = [\"Dulce\", \"Salado\"]\n",
        "  def __init__(self, nombre, precio, tipo, vegano=False, sin_gluten=False):\n",
        "    super().__init__(nombre, precio)\n",
        "    if tipo.capitalize() not in Postre.tipos:\n",
        "      raise ValueError(f\"Tipo no valido. Los tipos validos son: {Postre.tipos}\")\n",
        "    self.tipo = tipo.capitalize()\n",
        "    self.vegano = vegano\n",
        "    self.sin_gluten = sin_gluten\n",
        "\n",
        "  def __str__(self):\n",
        "    postre_info = super().__str__()\n",
        "    vegano_str = \"Vegano\" if self.vegano else \"No vegano\"\n",
        "    gluten_str = \"Con gluten\" if self.sin_gluten else \"Sin gluten\"\n",
        "\n",
        "  def datos(self):\n",
        "    super().datos()\n",
        "    print(f\"Tipo: {self.tipo}\")\n",
        "    print(f\"Vegano: {self.vegano}\")\n",
        "    print(f\"Sin gluten: {self.sin_gluten}\")\n",
        "\n",
        "  def calcular_total(self):\n",
        "    total = self.precio\n",
        "    if self.vegano:\n",
        "      total += 10\n",
        "    if self.sin_gluten:\n",
        "      total += 5\n",
        "    return total\n",
        "    print (f\"Total: {total}\")"
      ],
      "metadata": {
        "id": "iy0Pv6gV3q54"
      },
      "execution_count": 20,
      "outputs": []
    },
    {
      "cell_type": "code",
      "source": [
        "pos1 = Postre(\"Pastel fresas\", 100, \"Dulce\")\n",
        "pos1.vegano = True\n",
        "pos1.sin_gluten = False\n",
        "pos1.datos()"
      ],
      "metadata": {
        "colab": {
          "base_uri": "https://localhost:8080/"
        },
        "id": "r4-YaA1B3qqE",
        "outputId": "8d223fff-d81c-4468-e5f5-4ad233be806a"
      },
      "execution_count": 21,
      "outputs": [
        {
          "output_type": "stream",
          "name": "stdout",
          "text": [
            "Nombre: Pastel fresas\n",
            "Precio: 100 pesos\n",
            "Tipo: Dulce\n",
            "Vegano: True\n",
            "Sin gluten: False\n"
          ]
        }
      ]
    },
    {
      "cell_type": "code",
      "source": [
        "class Inventario:\n",
        "  def __init__(self):\n",
        "      self.stock = {}\n",
        "      self.total_stock = 0\n",
        "\n",
        "  def agregar_producto(self, producto, cantidad):\n",
        "    if producto in self.stock:\n",
        "      self.stock[producto] += cantidad\n",
        "      print (f\"Se agregaron {cantidad} de {producto} al inventario.\")\n",
        "    else:\n",
        "      print (f\"El producto {producto} ya existe en el inventario.\")\n",
        "      self.total_stock += cantidad\n",
        "      self.stock[producto] = cantidad\n",
        "\n",
        "  def actualizar_stock(self, producto, cantidad_cambio):\n",
        "    if producto in self.stock:\n",
        "      self.stock[producto] += cantidad_cambio\n",
        "      print(f\"Inventario de {producto} actualizado. Cambio: {cantidad_cambio}. Stock actual: {self.stock[producto]}\")\n",
        "    else:\n",
        "      print(f\"Producto '{producto}' no encontrado en el inventario. Use 'añadir_producto' para agregarlo.\")\n",
        "\n",
        "  def verificar_stock(self, ingredientes_necesarios):\n",
        "    for ingrediente, cantidad_necesaria in ingredientes_necesarios.items():\n",
        "      if ingrediente not in self.stock or self.stock[ingrediente] < cantidad_necesaria:\n",
        "        print(f\"Stock insuficiente de '{ingrediente}'. Stock disponible: {self.stock.get(ingrediente, 0)}, Requerido: {cantidad_necesaria}\")\n",
        "        return False\n",
        "    return True\n",
        "\n",
        "  def __str__(self):\n",
        "    inventario_str = \"Inventario:\\n\"\n",
        "    if not self.stock:\n",
        "      return \"El inventario esta vacio.\"\n",
        "    for producto, cantidad in self.stock.items():\n",
        "      inventario_str += f\"{producto}: {cantidad}\\n\"\n",
        "    inventario_str += f\"Total de productos en el inventario: {self.total_stock}\"\n",
        "    return inventario_str\n",
        "\n",
        "  def cerrar_inventario(self):\n",
        "    print(\"Cerrando inventario...\")\n",
        "    print(\"Productos en el inventario:\")\n",
        "    for producto, cantidad in self.stock.items():\n",
        "      print(f\"{producto}: {cantidad}\")"
      ],
      "metadata": {
        "id": "1yXGGnUh87zS"
      },
      "execution_count": 14,
      "outputs": []
    },
    {
      "cell_type": "code",
      "source": [
        "i1 = Inventario()\n",
        "i1.agregar_producto(\"Cafe americano\", 10)\n",
        "i1.agregar_producto(\"Pastel fresas\", 5)\n",
        "i1.agregar_producto(\"Pastel fresas\", 5)"
      ],
      "metadata": {
        "colab": {
          "base_uri": "https://localhost:8080/"
        },
        "id": "Ji7YYwPwBxjf",
        "outputId": "ff4d4d6a-c97e-4bf4-bf4f-cb4941810db1"
      },
      "execution_count": 15,
      "outputs": [
        {
          "output_type": "stream",
          "name": "stdout",
          "text": [
            "El producto Cafe americano ya existe en el inventario.\n",
            "El producto Pastel fresas ya existe en el inventario.\n",
            "Se agregaron 5 de Pastel fresas al inventario.\n"
          ]
        }
      ]
    },
    {
      "cell_type": "code",
      "source": [
        "i2 = Inventario()\n",
        "i2.agregar_producto(\"Pastel zanahoria\", 20)\n",
        "i2.actualizar_stock(\"Pastel zanahoria\", 5)\n",
        "i2.cerrar_inventario()"
      ],
      "metadata": {
        "colab": {
          "base_uri": "https://localhost:8080/"
        },
        "id": "7WQuGOFqB7bR",
        "outputId": "518744f7-4003-4fa3-8ada-4bb44574f9cb"
      },
      "execution_count": 16,
      "outputs": [
        {
          "output_type": "stream",
          "name": "stdout",
          "text": [
            "El producto Pastel zanahoria ya existe en el inventario.\n",
            "Inventario de Pastel zanahoria actualizado. Cambio: 5. Stock actual: 25\n",
            "Cerrando inventario...\n",
            "Productos en el inventario:\n",
            "Pastel zanahoria: 25\n"
          ]
        }
      ]
    },
    {
      "cell_type": "code",
      "source": [
        "class Pedido:\n",
        "  estados = [\"Pendiente\", \"Preparandose\", \"Entregado\", \"Cancelado\"]\n",
        "  def __init__(self, cliente, toma_de_pedido):\n",
        "    self.cliente = cliente\n",
        "    self.toma_de_pedido = toma_de_pedido\n",
        "    self.estado = \"Pendiente\"\n",
        "    self.productos = []\n",
        "    self.total = 0\n",
        "    import datetime\n",
        "    self.fecha_pedido = datetime.datetime.now()\n",
        "\n",
        "  def agregar_producto(self, producto):\n",
        "    if isinstance(producto, (Bebida, Postre)):\n",
        "      self.productos.append(producto)\n",
        "      print(f\"Producto {producto.nombre} agregado al pedido.\")\n",
        "    else:\n",
        "      print(\"Solo se pueden agregar bebidas y/o postres.\")\n",
        "\n",
        "  def eliminar_producto(self, producto):\n",
        "    if producto in self.productos:\n",
        "      self.productos.remove(producto)\n",
        "      print(f\"{producto.nombre} eliminado del pedido.\")\n",
        "    else:\n",
        "      print(f\"{producto.nombre} no se encuentra en el pedido.\")\n",
        "\n",
        "  def calcular_total(self):\n",
        "    total = 0\n",
        "    for producto in self.productos:\n",
        "      total += producto.calcular_total()\n",
        "    self.total = total\n",
        "    return total\n",
        "    print(f\"Total: {total}\")\n",
        "\n",
        "  def confirmar_pedido(self):\n",
        "    confirmar_pedido = input(\"¿Desea confirmar su pedido?:\")\n",
        "    if confirmar_pedido.lower() == \"si\":\n",
        "      print(\"Pedido confirmado.\")\n",
        "      return True\n",
        "    else:\n",
        "      print(\"Pedido cancelado.\")\n",
        "\n",
        "  def actualizar_estado(self, estado_nuevo):\n",
        "    if estado_nuevo in Pedido.estados:\n",
        "      self.estado = estado_nuevo\n",
        "      print(f\"{estado_nuevo}.\")\n",
        "    else:\n",
        "      print(f\"Estado no valido. Los estados validos son: {Pedido.estados}\")\n",
        "\n",
        "  def datos(self):\n",
        "    print(f\"ID del pedido: {id(self)}\")\n",
        "    print(f\"Cliente: {self.cliente.nombre}\")\n",
        "    print(f\"Toma de pedido: {self.toma_de_pedido}\")\n",
        "    print(f\"Estado: {self.estado}\")\n",
        "    print(f\"Fecha del pedido: {self.fecha_pedido.strftime('%Y-%m-%d %H:%M:%S')}\")\n",
        "    print(f\"Productos:\")\n",
        "    for producto in self.productos:\n",
        "      print(f\"- {producto.nombre}\")\n",
        "    print(f\"Total: {self.total}\")"
      ],
      "metadata": {
        "id": "M1aX27Bg85In"
      },
      "execution_count": 18,
      "outputs": []
    },
    {
      "cell_type": "code",
      "source": [
        "ped1 = Pedido(c1, e1)\n",
        "ped1.agregar_producto(b1)\n",
        "ped1.agregar_producto(pos1)\n",
        "ped1.calcular_total()\n",
        "ped1.confirmar_pedido()\n",
        "ped1.datos()"
      ],
      "metadata": {
        "colab": {
          "base_uri": "https://localhost:8080/"
        },
        "id": "QDDazm9kENEY",
        "outputId": "b430aa06-a1f9-48d3-eb24-7608c31fcb27"
      },
      "execution_count": 22,
      "outputs": [
        {
          "output_type": "stream",
          "name": "stdout",
          "text": [
            "Producto Cafe americano agregado al pedido.\n",
            "Producto Pastel fresas agregado al pedido.\n",
            "¿Desea confirmar su pedido?:si\n",
            "Pedido confirmado.\n",
            "ID del pedido: 134724579017232\n",
            "Cliente: Maria\n",
            "Toma de pedido: Empleado: Nombre: Juan, ID: 2005 - Rol: Gerente\n",
            "Estado: Pendiente\n",
            "Fecha del pedido: 2025-02-12 00:10:35\n",
            "Productos:\n",
            "- Cafe americano\n",
            "- Pastel fresas\n",
            "Total: 180\n"
          ]
        }
      ]
    },
    {
      "cell_type": "code",
      "source": [
        "class Promocion:\n",
        "  descuentos_validos = [\"Porcentaje\", \"Cantidad_fija\"]\n",
        "  def __init__(self, nombre, descripcion, condiciones, tipo_descuento, valor_descuento, producto_que_aplican=None, es_frecuente=False, puntos_necesarios=0):\n",
        "    if tipo_descuento not in Promocion.descuentos_validos:\n",
        "      raise ValueError(f\"Descuento no valido. Los tipos de descuentos validos son: {Promocion.descuentos_validos}\")\n",
        "    if tipo_descuento == \"Porcentaje\" and (valor_descuento < 0 or valor_descuento > 100):\n",
        "      raise ValueError(\"El porcentaje de descuento debe estar entre 0 y 100.\")\n",
        "    self.nombre = nombre\n",
        "    self.descripcion = descripcion\n",
        "    self.condiciones = condiciones\n",
        "    self.tipo_descuento = tipo_descuento\n",
        "    self.valor_descuento = valor_descuento\n",
        "    self.producto_que_aplican = producto_que_aplican\n",
        "    self.es_frecuente = es_frecuente\n",
        "    self.puntos_necesarios = puntos_necesarios\n",
        "\n",
        "  def datos(self):\n",
        "    print(f\"Nombre: {self.nombre}\")\n",
        "    print(f\"Descripcion: {self.descripcion}\")\n",
        "    print(f\"Condiciones: {self.condiciones}\")\n",
        "    print(f\"Tipo de descuento: {self.tipo_descuento}\")\n",
        "    print(f\"Valor de descuento: {self.valor_descuento}\")\n",
        "    print(f\"Cliente frecuente: {self.es_frecuente}\")\n",
        "    print(f\"Puntos necesarios: {self.puntos_necesarios}\")\n",
        "\n",
        "  def aplicar(self, pedido, cliente=None):\n",
        "    if self.es_frecuente:\n",
        "      if cliente is None or cliente.puntos < self.puntos_necesarios:\n",
        "        return False\n",
        "      if hasattr(self, 'productos_aplicables'):\n",
        "          for producto in pedido.productos:\n",
        "              if producto not in self.condiciones:\n",
        "                  return False\n",
        "      cliente.puntos_frecuente -= self.puntos_necesarios\n",
        "\n",
        "  def aplicar_promo(self, pedido, cliente=None):\n",
        "    if self.es_frecuente and (cliente is None or cliente.puntos < self.puntos_necesarios):\n",
        "      return 0\n",
        "    descuento_total = 0\n",
        "    if self.tipo_descuento == \"Porcentaje\":\n",
        "      for producto in pedido.productos:\n",
        "        descuento_producto = (self.valor_descuento / 100) * producto.calcular_total()\n",
        "        descuento_total += descuento_producto\n",
        "    elif self.tipo_descuento == \"Cantidad_fija\":\n",
        "      descuento_total = self.valor_descuento\n",
        "\n",
        "    if self.es_frecuente and cliente:\n",
        "      cliente.puntos_frecuente -= self.puntos_necesarios\n",
        "      print(f\"Promocion por cliente frecuente {self.nombre} aplicada. Puntos consumidos: {self.puntos_necesarios}. Puntos restantes: {cliente.puntos_frecuente}\")\n",
        "    print(f\"Promocion {self.nombre} aplicada. Descuento: {descuento_total:.2f}\")\n",
        "    return descuento_total\n",
        "\n",
        "  def __str__(self):\n",
        "    promo_info = \"\"\n",
        "    if self.tipo_descuento == \"Porcentaje\":\n",
        "      promo_info += f\" - Descuento: {self.valor_descuento}%\"\n",
        "    elif self.tipo_descuento == \"Cantidad_fija\":\n",
        "      promo_info += f\" - Descuento: {self.valor_descuento}\"\n",
        "    if self.es_frecuente:\n",
        "      promo_info += f\" - Cliente frecuente: Si\"\n",
        "    else:\n",
        "      promo_info += f\" - Cliente frecuente: No\"\n",
        "\n",
        "    if self.puntos_necesarios > 0:\n",
        "      promo_info += f\" - Puntos necesarios: {self.puntos_necesarios}\"\n",
        "    return promo_info\n",
        "\n",
        "  def total_promocion(self, pedido):\n",
        "    total_promocion = 0\n",
        "    if self.tipo_descuento == \"Porcentaje\":\n",
        "      for producto in pedido.productos:\n",
        "        descuento_producto = (self.valor_descuento / 100) * producto.calcular_total()\n",
        "        total_promocion += descuento_producto\n",
        "    elif self.tipo_descuento == \"Cantidad_fija\":\n",
        "      total_promocion = self.valor_descuento\n",
        "    print(f\"Total de la promocion: {total_promocion}\")"
      ],
      "metadata": {
        "id": "ig65hm05kYfe"
      },
      "execution_count": 60,
      "outputs": []
    },
    {
      "cell_type": "code",
      "source": [
        "pro1 = Promocion(\"Promo 1\", \"50% de descuento en postres veganos\", \"Promo valida solo los Miercoles\", \"Porcentaje\", 0.05, \"Postres veganos\", True, 100)\n",
        "pro1.datos()\n",
        "pro1.aplicar(ped1)\n",
        "pro1.aplicar_promo(ped1)\n",
        "pro1.total_promocion(ped1)"
      ],
      "metadata": {
        "colab": {
          "base_uri": "https://localhost:8080/"
        },
        "id": "Hw-hsxQnfQ2m",
        "outputId": "8a265952-c8f7-4f3e-ac21-f1081a27c3d6"
      },
      "execution_count": 39,
      "outputs": [
        {
          "output_type": "stream",
          "name": "stdout",
          "text": [
            "Nombre: Promo 1\n",
            "Descripcion: 50% de descuento en postres veganos\n",
            "Condiciones: Promo valida solo los Miercoles\n",
            "Tipo de descuento: Porcentaje\n",
            "Valor de descuento: 0.05\n",
            "Cliente frecuente: True\n",
            "Puntos necesarios: 100\n",
            "Total de la promocion: 0.09\n"
          ]
        }
      ]
    },
    {
      "cell_type": "code",
      "source": [
        "if __name__ == \"__main__\":\n",
        "\n",
        "    inventario_cafeteria = Inventario()\n",
        "    inventario_cafeteria.agregar_producto(\"cafe_molido\", 1000)\n",
        "    inventario_cafeteria.agregar_producto(\"leche_entera\", 500)\n",
        "    inventario_cafeteria.agregar_producto(\"leche_almendra\", 300)\n",
        "    inventario_cafeteria.agregar_producto(\"azucar\", 2000)\n",
        "    inventario_cafeteria.agregar_producto(\"jarabe_vainilla\", 100)\n",
        "    inventario_cafeteria.agregar_producto(\"tarta_manzana\", 50)\n",
        "    inventario_cafeteria.agregar_producto(\"brownie\", 60)\n",
        "\n",
        "    e2 = Empleado(\"Ana\", 1, \"gerente\")\n",
        "    e3 = Empleado(\"Carlos\", 2, \"barista\")\n",
        "    e4 = Empleado(\"Laura\", 3, \"mesero\")\n",
        "\n",
        "    c3 = Cliente(\"Sofía\", 101)\n",
        "    c4 = Cliente(\"Javier\", 102)\n",
        "\n",
        "    cafe_basico = Bebida(\"Café Solo\", 35, \"Mediana\", \"Caliente\", {\"Sin azucar\": 0})\n",
        "    cafe_leche = Bebida(\"Café con Leche\", 40, \"Grande\", \"Caliente\", {\"Leche de coco\": 7})\n",
        "    cafe_helado = Bebida(\"Café Helado\", 35, \"Mediana\", \"Frio\", {})\n",
        "    tarta_manzana = Postre(\"Tarta de Manzana\", 30, \"Dulce\", vegano=False, sin_gluten=False)\n",
        "    brownie_vegano = Postre(\"Brownie Vegano\", 45, \"Dulce\", vegano=True, sin_gluten=False)\n",
        "\n",
        "    cafe_leche.aplicar_extra(\"leche_almendra\", 7)\n",
        "    cafe_leche.aplicar_extra(\"sin_azucar\", 0)\n",
        "\n",
        "    promo_fidelidad = Promocion(\"Descuento Fidelidad\", \"10% de descuento por ser cliente fiel\", \"porcentaje\", \"Porcentaje\", 0.10, None, True, 40)\n",
        "    promo_postres = Promocion(\"Martes Dulce\", \"2x1 en postres los martes\", \"porcentaje\", \"Porcentaje\", 0.50, [\"Tarta de Manzana\", \"Brownie Vegano\"], False, 0)\n",
        "\n",
        "    ped3 = Pedido(c3, e4)\n",
        "    ped3.agregar_producto(cafe_leche)\n",
        "    ped3.agregar_producto(tarta_manzana)\n",
        "\n",
        "    ingredientes_pedido1 = {\"cafe_molido\": 20, \"leche_almendra\": 0.3, \"azucar\": 5, \"tarta_manzana\": 1}\n",
        "    if inventario_cafeteria.verificar_stock(ingredientes_pedido1):\n",
        "        total_pedido_sin_promo = ped3.calcular_total()\n",
        "        descuento_fidelidad = 0\n",
        "\n",
        "        if promo_fidelidad.aplicar(ped3, c3):\n",
        "            descuento_fidelidad = promo_fidelidad.aplicar_promo(ped3, c3)\n",
        "\n",
        "        total_pedido_final = total_pedido_sin_promo - descuento_fidelidad\n",
        "\n",
        "        c3.confirmar_pedido()\n",
        "        print(f\"\\nTotal del pedido (sin promo): {total_pedido_sin_promo:.2f}\")\n",
        "        print(f\"Descuento aplicado (fidelidad): {descuento_fidelidad:.2f}\")\n",
        "        print(f\"Total del pedido (con descuento): {total_pedido_final:.2f}\")\n",
        "\n",
        "        inventario_cafeteria.actualizar_stock(\"cafe_molido\", -20)\n",
        "        inventario_cafeteria.actualizar_stock(\"leche_almendra\", -0.3)\n",
        "        inventario_cafeteria.actualizar_stock(\"azucar\", -5)\n",
        "        inventario_cafeteria.actualizar_stock(\"tarta_manzana\", -1)\n",
        "\n",
        "    else:\n",
        "        print(\"No hay suficiente stock para completar el pedido. Por favor, actualice el inventario.\")\n",
        "\n",
        "    print(c3.mostrar_historial_pedidos())\n",
        "    print(inventario_cafeteria)\n",
        "    print(e2)\n",
        "    print(c3)\n",
        "    print(promo_fidelidad)\n",
        "    print(promo_postres)"
      ],
      "metadata": {
        "colab": {
          "base_uri": "https://localhost:8080/"
        },
        "id": "RQ53CEGvlsub",
        "outputId": "303fd57f-d24d-403e-d3c9-aaa715df624f"
      },
      "execution_count": 68,
      "outputs": [
        {
          "output_type": "stream",
          "name": "stdout",
          "text": [
            "El producto cafe_molido ya existe en el inventario.\n",
            "El producto leche_entera ya existe en el inventario.\n",
            "El producto leche_almendra ya existe en el inventario.\n",
            "El producto azucar ya existe en el inventario.\n",
            "El producto jarabe_vainilla ya existe en el inventario.\n",
            "El producto tarta_manzana ya existe en el inventario.\n",
            "El producto brownie ya existe en el inventario.\n",
            "El extra 'leche_almendra' no esta disponible.\n",
            "El extra 'sin_azucar' no esta disponible.\n",
            "Producto Café con Leche agregado al pedido.\n",
            "Producto Tarta de Manzana agregado al pedido.\n",
            "¿Desea confirmar su pedido?:si\n",
            "Pedido confirmado.\n",
            "\n",
            "Total del pedido (sin promo): 85.00\n",
            "Descuento aplicado (fidelidad): 0.00\n",
            "Total del pedido (con descuento): 85.00\n",
            "Inventario de cafe_molido actualizado. Cambio: -20. Stock actual: 980\n",
            "Inventario de leche_almendra actualizado. Cambio: -0.3. Stock actual: 299.7\n",
            "Inventario de azucar actualizado. Cambio: -5. Stock actual: 1995\n",
            "Inventario de tarta_manzana actualizado. Cambio: -1. Stock actual: 49\n",
            "No hay historial de pedidos para este cliente.\n",
            "None\n",
            "Inventario:\n",
            "cafe_molido: 980\n",
            "leche_entera: 500\n",
            "leche_almendra: 299.7\n",
            "azucar: 1995\n",
            "jarabe_vainilla: 100\n",
            "tarta_manzana: 49\n",
            "brownie: 60\n",
            "Total de productos en el inventario: 4010\n",
            "Empleado: Nombre: Ana, ID: 1 - Rol: Gerente\n",
            "Cliente: Nombre: Sofía, ID: 101 - Puntos: 0\n",
            " - Descuento: 0.1% - Cliente frecuente: Si - Puntos necesarios: 40\n",
            " - Descuento: 0.5% - Cliente frecuente: No\n"
          ]
        }
      ]
    }
  ]
}
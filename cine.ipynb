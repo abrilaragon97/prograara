{
  "nbformat": 4,
  "nbformat_minor": 0,
  "metadata": {
    "colab": {
      "provenance": [],
      "authorship_tag": "ABX9TyPjXVPfXwausJ6MQEMOprom",
      "include_colab_link": true
    },
    "kernelspec": {
      "name": "python3",
      "display_name": "Python 3"
    },
    "language_info": {
      "name": "python"
    }
  },
  "cells": [
    {
      "cell_type": "markdown",
      "metadata": {
        "id": "view-in-github",
        "colab_type": "text"
      },
      "source": [
        "<a href=\"https://colab.research.google.com/github/abrilaragon97/prograara/blob/main/cine.ipynb\" target=\"_parent\"><img src=\"https://colab.research.google.com/assets/colab-badge.svg\" alt=\"Open In Colab\"/></a>"
      ]
    },
    {
      "cell_type": "code",
      "source": [
        "class Persona:\n",
        "\n",
        "    lista =[]\n",
        "    def __init__(self, nombre, correo, edad):\n",
        "        self.nombre = nombre\n",
        "        self.correo = correo\n",
        "        self.edad = edad\n",
        "        Persona.lista.append(self)\n",
        "\n",
        "    def registrar(self):\n",
        "        print(f\"La persona {self.nombre} ha sido registrada con el correo {self.correo}\")\n",
        "\n",
        "    def actualizar_datos(self, nuevo_nombre, nuevo_correo, nueva_edad):\n",
        "        self.nombre = nuevo_nombre\n",
        "        self.correo = nuevo_correo\n",
        "        self.edad = nueva_edad\n",
        "        print(\"Los datos han sido actualizados\")\n",
        "\n",
        "    def eliminar_persona(self):\n",
        "        Persona.lista.remove(self)\n",
        "        print(\"La persona ha sido eliminada\")\n",
        "\n",
        "    @classmethod\n",
        "    def personas_registradas(cls):\n",
        "        print(\"Personas registradas:\")\n",
        "        for persona in cls.lista:\n",
        "            print(f\"Nombre: {persona.nombre}, Correo: {persona.correo}, Edad: {persona.edad}\")"
      ],
      "metadata": {
        "id": "NmKDs-J10ik9"
      },
      "execution_count": 39,
      "outputs": []
    },
    {
      "cell_type": "code",
      "source": [
        "p1=Persona(\"Luis\", \"luis@gmail.com\", 19)\n",
        "p2=Persona(\"Laura\", \"laura@gmail.com\", 20)\n",
        "p3=Persona(\"Ximena\", \"ximena@gmail.com\", 18)\n",
        "Persona.registrar(p1)\n",
        "Persona.registrar(p2)\n",
        "Persona.registrar(p3)"
      ],
      "metadata": {
        "colab": {
          "base_uri": "https://localhost:8080/"
        },
        "id": "N3QDDhzx4O87",
        "outputId": "3eb62633-be6b-41c0-abb1-33e8b42051ab"
      },
      "execution_count": 3,
      "outputs": [
        {
          "output_type": "stream",
          "name": "stdout",
          "text": [
            "La persona Luis ha sido registrada con el correo luis@gmail.com\n",
            "La persona Laura ha sido registrada con el correo laura@gmail.com\n",
            "La persona Ximena ha sido registrada con el correo ximena@gmail.com\n"
          ]
        }
      ]
    },
    {
      "cell_type": "code",
      "source": [
        "Persona.personas_registradas()"
      ],
      "metadata": {
        "colab": {
          "base_uri": "https://localhost:8080/"
        },
        "id": "Yh30ucBeIbvV",
        "outputId": "0ee0fe73-8dea-4acc-a00a-cb50644b4388"
      },
      "execution_count": 4,
      "outputs": [
        {
          "output_type": "stream",
          "name": "stdout",
          "text": [
            "Personas registradas:\n",
            "Nombre: Luis, Correo: luis@gmail.com, Edad: 19\n",
            "Nombre: Laura, Correo: laura@gmail.com, Edad: 20\n",
            "Nombre: Ximena, Correo: ximena@gmail.com, Edad: 18\n"
          ]
        }
      ]
    },
    {
      "cell_type": "code",
      "source": [
        "class Usuario(Persona):\n",
        "    def reserva(self, funcion, asiento):\n",
        "        print(\"Has realizado una reserva\")\n",
        "\n",
        "    def cancelar_reserva(self, funcion):\n",
        "        print(\"Has cancelado tu reserva\")\n",
        "\n",
        "    def acceder_promo(self):\n",
        "        print(\"Has accedido a la promocion\")\n",
        ""
      ],
      "metadata": {
        "id": "CGX-sJQ-E4-N"
      },
      "execution_count": 23,
      "outputs": []
    },
    {
      "cell_type": "code",
      "source": [
        "class Empleado(Persona):\n",
        "    def __init__(self, nombre, correo, edad, rol):\n",
        "        super().__init__(nombre, correo, edad)\n",
        "        self.rol = rol\n",
        "\n",
        "    def acceder_sistema(self):\n",
        "        print(\"Accediste al sistema\")\n",
        "        pass\n",
        "    def agregar_funcion(self):\n",
        "        print(\"Agregaste una funcion\")\n",
        "        pass\n",
        "    def eliminar_funcion(self):\n",
        "        print(\"Eliminaste una funcion\")\n",
        "        pass\n",
        "    def agregar_pelicula(self):\n",
        "        print(\"Agregaste una pelicula\")\n",
        "        pass\n",
        "    def eliminar_pelicula(self):\n",
        "        print(\"Eliminaste una pelicula\")\n",
        "        pass\n",
        "    def agregar_promo(self):\n",
        "        print(\"Agregaste una promocion\")\n",
        "        pass\n",
        "    def modificar_promo(self):\n",
        "        print(\"Modificaste una promocion\")\n",
        "        pass\n",
        "    def eliminar_promo(self):\n",
        "        print(\"Eliminaste una promocion\")\n",
        "        pass\n",
        "    def agregar_sala(self):\n",
        "        print(\"Agregaste una sala\")\n",
        "        pass\n",
        "    def eliminar_sala(self):\n",
        "        print(\"Eliminaste una sala\")\n",
        "        pass\n",
        "    def agregar_horario(self):\n",
        "        print(\"Agregaste un horario\")\n",
        "        pass\n",
        "    def eliminar_horario(self):\n",
        "        print(\"Eliminaste un horario\")\n",
        "        pass\n"
      ],
      "metadata": {
        "id": "tKK-J3aDGBGa"
      },
      "execution_count": 34,
      "outputs": []
    },
    {
      "cell_type": "code",
      "source": [
        "class Espacio:\n",
        "    def __init__(self, tamaño, identificador):\n",
        "        self.tamaño = tamaño\n",
        "        self.identificador = identificador\n",
        "\n",
        "    def descripcion(self):\n",
        "        print(f\"El lugar tiene un tamaño de {self.tamaño} y su id es {self.identificador}\")"
      ],
      "metadata": {
        "id": "OqkBZ3PmG85X"
      },
      "execution_count": 7,
      "outputs": []
    },
    {
      "cell_type": "code",
      "source": [
        "class Sala(Espacio):\n",
        "    def __init__(self, tamaño, identificador, tipo, asientos):\n",
        "        super().__init__(tamaño, identificador)\n",
        "        self.tipo = tipo\n",
        "        self.asientos = asientos\n",
        "        self.disponibilidad = True\n",
        "\n",
        "    def descripcion(self):\n",
        "        super().descripcion()\n",
        "        print(f\"La sala es de tipo {self.tipo}\")\n",
        "\n",
        "    def asignar_asientos(self, numero_asiento):\n",
        "        if numero_asiento in self.asientos and self.asientos[numero_asiento] is False:\n",
        "            self.asientos[numero_asiento] = True\n",
        "            print(f\"Asiento {numero_asiento} asignado con éxito.\")\n",
        "        else:\n",
        "            print(f\"Asiento {numero_asiento} no disponible o no existe.\")\n",
        "\n",
        "    def disponibilidad_asiento(self, numero_asiento):\n",
        "        if numero_asiento in self.asientos and self.asientos[numero_asiento] is False:\n",
        "            print(f\"Asiento {numero_asiento} disponible.\")\n",
        "        else:\n",
        "            print(f\"Asiento {numero_asiento} no disponible.\")\n",
        "\n",
        "    def mostrar_asientos(self):\n",
        "        for asiento, estado in self.asientos.items():\n",
        "            estado_str = \"Ocupado\" if estado else \"Disponible\"\n",
        "            print(f\"Asiento {asiento}: {estado_str}\")\n",
        "\n",
        "    def consultar_disponibilidad(self):\n",
        "        if self.disponibilidad:\n",
        "            print(\"La sala esta disponible\")\n",
        "        else:\n",
        "            print(\"La sala no esta disponible\")"
      ],
      "metadata": {
        "id": "fhRoVLZ2b0Zt"
      },
      "execution_count": 8,
      "outputs": []
    },
    {
      "cell_type": "code",
      "source": [
        "sala1=Sala(50, \"Sala cine\", \"3D\", {i: False for i in range(1, 50)})\n",
        "sala1.descripcion()\n",
        "sala1.asignar_asientos(1)\n",
        "sala1.consultar_disponibilidad()"
      ],
      "metadata": {
        "colab": {
          "base_uri": "https://localhost:8080/"
        },
        "id": "Z1UqCMpeLwAC",
        "outputId": "2b54f390-2681-4d7b-cebc-cc6c1109a2b7"
      },
      "execution_count": 9,
      "outputs": [
        {
          "output_type": "stream",
          "name": "stdout",
          "text": [
            "El lugar tiene un tamaño de 50 y su id es Sala cine\n",
            "La sala es de tipo 3D\n",
            "Asiento 1 asignado con éxito.\n",
            "La sala esta disponible\n"
          ]
        }
      ]
    },
    {
      "cell_type": "code",
      "source": [
        "sala1.mostrar_asientos()"
      ],
      "metadata": {
        "colab": {
          "base_uri": "https://localhost:8080/"
        },
        "id": "VRuy7DhwLVni",
        "outputId": "d5714799-7947-45cd-a195-8bd64d403026"
      },
      "execution_count": 10,
      "outputs": [
        {
          "output_type": "stream",
          "name": "stdout",
          "text": [
            "Asiento 1: Ocupado\n",
            "Asiento 2: Disponible\n",
            "Asiento 3: Disponible\n",
            "Asiento 4: Disponible\n",
            "Asiento 5: Disponible\n",
            "Asiento 6: Disponible\n",
            "Asiento 7: Disponible\n",
            "Asiento 8: Disponible\n",
            "Asiento 9: Disponible\n",
            "Asiento 10: Disponible\n",
            "Asiento 11: Disponible\n",
            "Asiento 12: Disponible\n",
            "Asiento 13: Disponible\n",
            "Asiento 14: Disponible\n",
            "Asiento 15: Disponible\n",
            "Asiento 16: Disponible\n",
            "Asiento 17: Disponible\n",
            "Asiento 18: Disponible\n",
            "Asiento 19: Disponible\n",
            "Asiento 20: Disponible\n",
            "Asiento 21: Disponible\n",
            "Asiento 22: Disponible\n",
            "Asiento 23: Disponible\n",
            "Asiento 24: Disponible\n",
            "Asiento 25: Disponible\n",
            "Asiento 26: Disponible\n",
            "Asiento 27: Disponible\n",
            "Asiento 28: Disponible\n",
            "Asiento 29: Disponible\n",
            "Asiento 30: Disponible\n",
            "Asiento 31: Disponible\n",
            "Asiento 32: Disponible\n",
            "Asiento 33: Disponible\n",
            "Asiento 34: Disponible\n",
            "Asiento 35: Disponible\n",
            "Asiento 36: Disponible\n",
            "Asiento 37: Disponible\n",
            "Asiento 38: Disponible\n",
            "Asiento 39: Disponible\n",
            "Asiento 40: Disponible\n",
            "Asiento 41: Disponible\n",
            "Asiento 42: Disponible\n",
            "Asiento 43: Disponible\n",
            "Asiento 44: Disponible\n",
            "Asiento 45: Disponible\n",
            "Asiento 46: Disponible\n",
            "Asiento 47: Disponible\n",
            "Asiento 48: Disponible\n",
            "Asiento 49: Disponible\n"
          ]
        }
      ]
    },
    {
      "cell_type": "code",
      "source": [
        "class ZonaComida(Espacio):\n",
        "    def __init__(self, tamaño, identificador, tipo, menu, precios, insumos):\n",
        "        super().__init__(tamaño, identificador)\n",
        "        self.tipo = tipo\n",
        "        self.menu = menu\n",
        "        self.precios = precios\n",
        "        self.insumos = insumos\n",
        "        self.disponibilidad = True\n",
        "\n",
        "    def descripcion(self):\n",
        "        super().descripcion()\n",
        "        print(f\"La zona de comida es de tipo {self.tipo}\")\n",
        "\n",
        "    def consultar_disponibilidad(self):\n",
        "        if self.disponibilidad:\n",
        "            print(\"La zona de comida esta disponible\")\n",
        "        else:\n",
        "            print(\"La zona de comida no esta disponible\")\n",
        "\n",
        "    def mostrar_menu(self):\n",
        "        print(\"Menu:\")\n",
        "        for plato, precio in self.menu.items():\n",
        "            print(f\"{plato}: ${precio}\")\n",
        "\n",
        "    def mostrar_precios(self):\n",
        "        print(\"Precios:\")\n",
        "        for plato, precio in self.precios.items():\n",
        "            print(f\"{plato}: ${precio}\")\n",
        "\n",
        "    def mostrar_insumos(self):\n",
        "        print(\"Insumos:\")\n",
        "        for insumo, cantidad in self.insumos.items():\n",
        "            print(f\"{insumo}: {cantidad}\")"
      ],
      "metadata": {
        "id": "WvlWtzdtf_sL"
      },
      "execution_count": 11,
      "outputs": []
    },
    {
      "cell_type": "code",
      "source": [
        "class Pelicula:\n",
        "    def __init__(self, titulo, genero, duracion):\n",
        "        self.titulo = titulo\n",
        "        self.genero = genero\n",
        "        self.duracion = duracion\n",
        "\n",
        "    def descripcion(self):\n",
        "        print(f\"La pelicula {self.titulo} es de genero {self.genero}, tiene una duracion de {self.duracion} minutos\")"
      ],
      "metadata": {
        "id": "tRlFmjaLvO5P"
      },
      "execution_count": 12,
      "outputs": []
    },
    {
      "cell_type": "code",
      "source": [
        "class Funcion:\n",
        "    def __init__(self, pelicula, sala, horario):\n",
        "        self.pelicula = pelicula\n",
        "        self.sala = sala\n",
        "        self.horario = horario\n",
        "\n",
        "    def descripcion(self):\n",
        "        print(f\"La pelicula {self.pelicula.titulo} se proyectara en la sala {self.sala.identificador} a las {self.horario}\")"
      ],
      "metadata": {
        "id": "Yz38suXswot6"
      },
      "execution_count": 13,
      "outputs": []
    },
    {
      "cell_type": "code",
      "source": [
        "class Promocion:\n",
        "    def __init__(self, descuento, condiciones, nombre=None):\n",
        "        self.nombre = nombre\n",
        "        self.descuento = descuento\n",
        "        self.condiciones = condiciones\n",
        "\n",
        "    def descripcion(self):\n",
        "        print(f\"La promocion {self.nombre} tiene un descuento del {self.descuento}% y se aplica a las siguientes condiciones: {self.condiciones}\")\n",
        "\n",
        "    def aplicar_promocion(self, precio):\n",
        "        return precio * (1 - self.descuento / 100)\n",
        "\n",
        "    def cancelar_promocion(self, precio):\n",
        "        return precio * (1 + self.descuento / 100)\n",
        "\n",
        "    def modificar_promocion(self, nuevo_nombre, nuevo_descuento, nuevas_condiciones):\n",
        "        self.nombre = nuevo_nombre\n",
        "        self.descuento = nuevo_descuento\n",
        "        self.condiciones = nuevas_condiciones\n",
        "        print(\"La promocion ha sido modificada\")\n",
        "\n",
        "    def eliminar_promocion(self):\n",
        "        del self\n",
        "        print(\"La promocion ha sido eliminada\")"
      ],
      "metadata": {
        "id": "EfVHrQPZwyhl"
      },
      "execution_count": 14,
      "outputs": []
    },
    {
      "cell_type": "code",
      "source": [
        "class Reserva:\n",
        "    def __init__(self, id_reserva, usuario, funcion, asiento):\n",
        "        self.id_reserva = id_reserva\n",
        "        self.usuario = usuario\n",
        "        self.funcion = funcion\n",
        "        self.asiento = asiento\n",
        "\n",
        "    def descripcion(self):\n",
        "        print(f\"La reserva {self.id_reserva} se ha realizado por el usuario {self.usuario.nombre} para la funcion {self.funcion.pelicula.titulo} en la sala {self.funcion.sala.identificador} a las {self.funcion.horario} y el asiento {self.asiento}\")\n",
        "\n",
        "    def confirmar_reserva(self):\n",
        "        print(\"La reserva ha sido confirmada\")\n",
        "\n",
        "    def cancelar_reserva(self):\n",
        "        print(\"La reserva ha sido cancelada\")\n",
        "#"
      ],
      "metadata": {
        "id": "8q3pWXsow4AJ"
      },
      "execution_count": 15,
      "outputs": []
    },
    {
      "cell_type": "code",
      "source": [
        "pelicula1 = Pelicula(\"Matrix\", \"Ciencia Ficción\", 136)\n",
        "pelicula2 = Pelicula(\"Titanic\", \"Drama/Romance\", 195)\n",
        "\n",
        "sala1 = Sala(48,\"Sala 1\",\"3DX\", {i: False for i in range(1, 48)})\n",
        "sala2 = Sala(50,\"Sala 2\",\"Tradicional\", {i: False for i in range(1, 50)})\n",
        "\n",
        "funcion1 = Funcion(pelicula1, sala1, \"18:00\")\n",
        "funcion2 = Funcion(pelicula2, sala2, \"20:00\")\n",
        "\n",
        "usuario1 = Usuario(\"Ana Pérez\", \"ana.perez@email.com\", 25)\n",
        "empleado1 = Empleado(\"Luis Martínez\", \"luis.martinez@email.com\", 38, \"Gerente\")\n",
        "usuario1.registrar()\n",
        "empleado1.registrar()\n",
        "\n",
        "usuario1.reserva(funcion1, 3)\n",
        "usuario1.cancelar_reserva(funcion1)\n",
        "\n",
        "promocion1 = Promocion(20, 25, \"Valido de lunes a jueves\")\n",
        "promocion1.descripcion()\n",
        "promocion1.modificar_promocion(21, 30, \"Válido todos los días antes de las 5 PM.\")\n",
        "\n",
        "Persona.personas_registradas()"
      ],
      "metadata": {
        "colab": {
          "base_uri": "https://localhost:8080/"
        },
        "collapsed": true,
        "id": "H7k7wtTPXUtY",
        "outputId": "887aee0c-74ad-4af0-ab23-df25447cc543"
      },
      "execution_count": 40,
      "outputs": [
        {
          "output_type": "stream",
          "name": "stdout",
          "text": [
            "La persona Ana Pérez ha sido registrada con el correo ana.perez@email.com\n",
            "La persona Luis Martínez ha sido registrada con el correo luis.martinez@email.com\n",
            "Has realizado una reserva\n",
            "Has cancelado tu reserva\n",
            "La promocion 20 tiene un descuento del 25% y se aplica a las siguientes condiciones: Valido de lunes a jueves\n",
            "La promocion ha sido modificada\n",
            "Personas registradas:\n",
            "Nombre: Ana Pérez, Correo: ana.perez@email.com, Edad: 25\n",
            "Nombre: Luis Martínez, Correo: luis.martinez@email.com, Edad: 38\n"
          ]
        }
      ]
    }
  ]
}
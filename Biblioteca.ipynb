{
  "nbformat": 4,
  "nbformat_minor": 0,
  "metadata": {
    "colab": {
      "provenance": [],
      "authorship_tag": "ABX9TyNHm1k3aq9s0/bDXLRm+AOC",
      "include_colab_link": true
    },
    "kernelspec": {
      "name": "python3",
      "display_name": "Python 3"
    },
    "language_info": {
      "name": "python"
    }
  },
  "cells": [
    {
      "cell_type": "markdown",
      "metadata": {
        "id": "view-in-github",
        "colab_type": "text"
      },
      "source": [
        "<a href=\"https://colab.research.google.com/github/abrilaragon97/prograara/blob/main/Biblioteca.ipynb\" target=\"_parent\"><img src=\"https://colab.research.google.com/assets/colab-badge.svg\" alt=\"Open In Colab\"/></a>"
      ]
    },
    {
      "cell_type": "code",
      "execution_count": 16,
      "metadata": {
        "id": "96NHWmMb9gz4"
      },
      "outputs": [],
      "source": [
        "class Material:\n",
        "    def __init__(self, titulo, isbn):\n",
        "        self.titulo = titulo\n",
        "        self.isbn = isbn\n",
        "\n",
        "    def datos(self):\n",
        "        print(f\"Titulo: {self.titulo}\")\n",
        "        print(f\"ISBN: {self.isbn}\")"
      ]
    },
    {
      "cell_type": "code",
      "source": [
        "m1 = Material(\"Don Quijote\", \"123456789\")\n",
        "m1.datos()"
      ],
      "metadata": {
        "colab": {
          "base_uri": "https://localhost:8080/"
        },
        "id": "b3BJAyMSscJE",
        "outputId": "74158850-8ad4-42bc-dbd6-baf6c76cdfe3"
      },
      "execution_count": 17,
      "outputs": [
        {
          "output_type": "stream",
          "name": "stdout",
          "text": [
            "Titulo: Don Quijote\n",
            "ISBN: 123456789\n"
          ]
        }
      ]
    },
    {
      "cell_type": "code",
      "source": [
        "class Libro(Material):\n",
        "    def __init__(self, titulo, isbn, autor, genero):\n",
        "        super().__init__(titulo, isbn)\n",
        "        self.autor = autor\n",
        "        self.genero = genero\n",
        "        self.estado = (\"Disponible\")\n",
        "\n",
        "    def datos_lib(self):\n",
        "        super().datos()\n",
        "        print(f\"Autor: {self.autor}\")\n",
        "        print(f\"Género: {self.genero}\")\n",
        "        print(f\"Estado: {self.estado}\")"
      ],
      "metadata": {
        "id": "SLjIvXvhtbKK"
      },
      "execution_count": 30,
      "outputs": []
    },
    {
      "cell_type": "code",
      "source": [
        "li1 = Libro(\"Don Quijote\", \"123456789\", \"Miguel de Cervantes\", \"Novela\")\n",
        "li1.datos_lib()"
      ],
      "metadata": {
        "colab": {
          "base_uri": "https://localhost:8080/"
        },
        "id": "RYRl1eBBtlK4",
        "outputId": "381ec4cb-0730-4e39-882b-f3996bbde150"
      },
      "execution_count": 31,
      "outputs": [
        {
          "output_type": "stream",
          "name": "stdout",
          "text": [
            "Titulo: Don Quijote\n",
            "ISBN: 123456789\n",
            "Autor: Miguel de Cervantes\n",
            "Género: Novela\n",
            "Estado: Disponible\n"
          ]
        }
      ]
    },
    {
      "cell_type": "code",
      "source": [
        "class Revista(Material):\n",
        "    def __init__(self, titulo, isbn, edicion, periodicidad):\n",
        "        super().__init__(titulo, isbn)\n",
        "        self.edicion = edicion\n",
        "        self.periodicidad = periodicidad\n",
        "        self.estado = \"disponible\"\n",
        "\n",
        "    def datos_rev(self):\n",
        "        super().datos()\n",
        "        print(f\"Edición: {self.edicion}\")\n",
        "        print(f\"Periodicidad: {self.periodicidad}\")\n",
        "        print(f\"Estado: {self.estado}\")"
      ],
      "metadata": {
        "id": "4el3H2AruodI"
      },
      "execution_count": 28,
      "outputs": []
    },
    {
      "cell_type": "code",
      "source": [
        "rev1 = Revista(\"El Mundo\", \"123456780\", \"Primera\", \"Mensual\")\n",
        "rev1.datos_rev()"
      ],
      "metadata": {
        "colab": {
          "base_uri": "https://localhost:8080/"
        },
        "id": "yLkOtllfu8pK",
        "outputId": "4cfba2b1-9962-4728-e89b-409ecd27854a"
      },
      "execution_count": 29,
      "outputs": [
        {
          "output_type": "stream",
          "name": "stdout",
          "text": [
            "Titulo: El Mundo\n",
            "ISBN: 123456780\n",
            "Edición: Primera\n",
            "Periodicidad: Mensual\n",
            "Estado: disponible\n"
          ]
        }
      ]
    },
    {
      "cell_type": "code",
      "source": [
        "class MaterialDigital(Material):\n",
        "    def __init__(self, titulo, isbn, tipo_archivo, enlace_descarga):\n",
        "        super().__init__(titulo, isbn)\n",
        "        self.tipo_archivo = tipo_archivo\n",
        "        self.enlace_descarga = enlace_descarga\n",
        "\n",
        "    def datos_md(self):\n",
        "        super().datos()\n",
        "        print(f\"Tipo de archivo: {self.tipo_archivo}\")\n",
        "        print(f\"Enlace de descarga: {self.enlace_descarga}\")"
      ],
      "metadata": {
        "id": "liXZbZyevJF4"
      },
      "execution_count": 32,
      "outputs": []
    },
    {
      "cell_type": "code",
      "source": [
        "matd1 = MaterialDigital(\"Don Quijote\", \"123456789\", \"PDF\", \"https://cvc.cervantes.es/literatura/lee/coleccion/pdf/quijote.pdf\")\n",
        "matd1.datos_md()"
      ],
      "metadata": {
        "colab": {
          "base_uri": "https://localhost:8080/"
        },
        "id": "TByEoM5Iv0Ug",
        "outputId": "9d241ea0-2da8-4fde-8efc-2ed7838e5b4e"
      },
      "execution_count": 34,
      "outputs": [
        {
          "output_type": "stream",
          "name": "stdout",
          "text": [
            "Titulo: Don Quijote\n",
            "ISBN: 123456789\n",
            "Tipo de archivo: PDF\n",
            "Enlace de descarga: https://cvc.cervantes.es/literatura/lee/coleccion/pdf/quijote.pdf\n"
          ]
        }
      ]
    },
    {
      "cell_type": "code",
      "source": [
        "class Persona:\n",
        "    def __init__(self, nombre, id):\n",
        "        self.nombre = nombre\n",
        "        self.id = id\n",
        "\n",
        "    def datos(self):\n",
        "        print(f\"Nombre: {self.nombre}\")\n",
        "        print(f\"ID: {self.id}\")"
      ],
      "metadata": {
        "id": "0jmHG9pfwoVf"
      },
      "execution_count": 38,
      "outputs": []
    },
    {
      "cell_type": "code",
      "source": [
        "p1 = Persona(\"Juan\", 100)\n",
        "p1.datos()"
      ],
      "metadata": {
        "colab": {
          "base_uri": "https://localhost:8080/"
        },
        "id": "g63cQQ4E-LV5",
        "outputId": "a7fdacc1-97be-4ffc-e46b-9617e7ae22fb"
      },
      "execution_count": 39,
      "outputs": [
        {
          "output_type": "stream",
          "name": "stdout",
          "text": [
            "Nombre: Juan\n",
            "ID: 100\n"
          ]
        }
      ]
    },
    {
      "cell_type": "code",
      "source": [
        "class Usuario(Persona):\n",
        "    def __init__(self, nombre, identificacion):\n",
        "        super().__init__(nombre, identificacion)\n",
        "        self.materiales_prestados = []\n",
        "\n",
        "    def datos_us(self):\n",
        "        super().datos()\n",
        "        print(f\"Materiales prestados: {self.materiales_prestados}\")\n",
        "\n",
        "    def consultar_catalogo(self, catalogo):\n",
        "        catalogo.mostrar_materiales()"
      ],
      "metadata": {
        "id": "YZYP4XLx-5qq"
      },
      "execution_count": 77,
      "outputs": []
    },
    {
      "cell_type": "code",
      "source": [
        "us1 = Usuario(\"Juan\", 100)\n",
        "us1.datos_us()\n",
        "us1.consultar_catalogo(sucursal1.catalogo)"
      ],
      "metadata": {
        "colab": {
          "base_uri": "https://localhost:8080/"
        },
        "id": "MUWue6RT_WZA",
        "outputId": "8938a787-3ea0-45a9-d51e-b1b084e77d11"
      },
      "execution_count": 78,
      "outputs": [
        {
          "output_type": "stream",
          "name": "stdout",
          "text": [
            "Nombre: Juan\n",
            "ID: 100\n",
            "Materiales prestados: []\n",
            "- Don Quijote (Libro)\n",
            "- El Mundo (Revista)\n",
            "- Don Quijote (MaterialDigital)\n",
            "- Cien años de soledad (Libro)\n",
            "- National Geographic (Revista)\n",
            "- El Quijote (MaterialDigital)\n"
          ]
        }
      ]
    },
    {
      "cell_type": "code",
      "source": [
        "class Bibliotecario(Persona):\n",
        "    def __init__(self, nombre, identificacion, sucursal):\n",
        "        super().__init__(nombre, identificacion)\n",
        "        self.sucursal = sucursal\n",
        "\n",
        "    def agregar_material(self, material):\n",
        "        self.sucursal.agregar_material(material)\n",
        "\n",
        "    def gestionar_prestamo(self, usuario, material):\n",
        "        self.sucursal.prestar_material(usuario, material)\n",
        "\n",
        "    def gestionar_devolucion(self, usuario, material):\n",
        "        self.sucursal.devolver_material(usuario, material)\n",
        "\n",
        "    def consultar_prestamos(self, usuario):\n",
        "        self.sucursal.consultar_prestamos(usuario)\n",
        "\n",
        "    def datos_bi(self):\n",
        "        super().datos()\n",
        "        print(f\"Sucursal: {self.sucursal}\")"
      ],
      "metadata": {
        "id": "QLkO-nCW_4WU"
      },
      "execution_count": 44,
      "outputs": []
    },
    {
      "cell_type": "code",
      "source": [
        "bi1 = Bibliotecario(\"Juan\", 100, \"Sucursal 1\")\n",
        "bi1.datos_bi()"
      ],
      "metadata": {
        "colab": {
          "base_uri": "https://localhost:8080/"
        },
        "id": "vFVaGPTCAH-v",
        "outputId": "cb7b6c03-4226-4e0b-cb64-ba626a103087"
      },
      "execution_count": 46,
      "outputs": [
        {
          "output_type": "stream",
          "name": "stdout",
          "text": [
            "Nombre: Juan\n",
            "ID: 100\n",
            "Sucursal: Sucursal 1\n"
          ]
        }
      ]
    },
    {
      "cell_type": "code",
      "source": [
        "class Sucursal:\n",
        "    def __init__(self, nombre, catalogo):\n",
        "        self.nombre = nombre\n",
        "        self.catalogo = catalogo()\n",
        "\n",
        "    def agregar_material(self, material):\n",
        "        self.catalogo.agregar_material(material)\n",
        "\n",
        "    def prestar_material(self, usuario, material):\n",
        "        if material.estado == (\"disponible\"):\n",
        "            material.estado = (\"prestado\")\n",
        "            usuario.materiales_prestados.append(material)\n",
        "            print(f\"Material '{material.titulo}' prestado a {usuario.nombre}\")\n",
        "        else:\n",
        "            print(f\"Material '{material.titulo}' no disponible\")\n",
        "\n",
        "    def devolver_material(self, usuario, material):\n",
        "        if material in usuario.materiales_prestados:\n",
        "            material.estado = (\"disponible\")\n",
        "            usuario.materiales_prestados.remove(material)\n",
        "            print(f\"Material '{material.titulo}' devuelto por {usuario.nombre}\")\n",
        "        else:\n",
        "            print(f\"Material '{material.titulo}' no prestado a {usuario.nombre}\")\n",
        "\n",
        "    def detalles_sucursal(self):\n",
        "        print(f\"Nombre de la sucursal: {self.nombre}\")\n",
        "        self.catalogo.mostrar_materiales()"
      ],
      "metadata": {
        "id": "cqO2H9h1A6xy"
      },
      "execution_count": 66,
      "outputs": []
    },
    {
      "cell_type": "code",
      "source": [
        "su1 = Sucursal(\"Sucursal 1\", Catalogo)\n",
        "s1 = Libro(\"Don Quijote\", \"123456789\", \"Miguel de Cervantes\", \"Novela\")\n",
        "s1.datos_lib()\n",
        "su1.agregar_material(s1)\n",
        "su1.detalles_sucursal()"
      ],
      "metadata": {
        "colab": {
          "base_uri": "https://localhost:8080/"
        },
        "id": "1Z2YCtxjBn7k",
        "outputId": "dc058139-ab29-4299-ac0a-793cb49e6948"
      },
      "execution_count": 69,
      "outputs": [
        {
          "output_type": "stream",
          "name": "stdout",
          "text": [
            "Titulo: Don Quijote\n",
            "ISBN: 123456789\n",
            "Autor: Miguel de Cervantes\n",
            "Género: Novela\n",
            "Estado: Disponible\n",
            "Nombre de la sucursal: Sucursal 1\n",
            "- Don Quijote (Libro)\n"
          ]
        }
      ]
    },
    {
      "cell_type": "code",
      "source": [
        "class Prestamo:\n",
        "    def __init__(self, usuario, material, fecha_prestamo, fecha_devolucion):\n",
        "        self.usuario = usuario\n",
        "        self.material = material\n",
        "        self.fecha_prestamo = fecha_prestamo\n",
        "        self.fecha_devolucion = fecha_devolucion\n",
        "\n",
        "    def datos_pres(self):\n",
        "        print(f\"Usuario: {self.usuario.nombre}\")\n",
        "        print(f\"Material: {self.material.titulo}\")\n",
        "        print(f\"Fecha de préstamo: {self.fecha_prestamo}\")"
      ],
      "metadata": {
        "id": "guRCyXtoB7iw"
      },
      "execution_count": 62,
      "outputs": []
    },
    {
      "cell_type": "code",
      "source": [
        "pres1 = Prestamo(us1, s1, \"01/01/2023\", \"01/02/2023\")\n",
        "pres1.datos_pres()"
      ],
      "metadata": {
        "colab": {
          "base_uri": "https://localhost:8080/"
        },
        "id": "__w_pavHCI3g",
        "outputId": "d48189a1-5ad5-40e6-ebf8-296d1686262e"
      },
      "execution_count": 63,
      "outputs": [
        {
          "output_type": "stream",
          "name": "stdout",
          "text": [
            "Usuario: Juan\n",
            "Material: Don Quijote\n",
            "Fecha de préstamo: 01/01/2023\n"
          ]
        }
      ]
    },
    {
      "cell_type": "code",
      "source": [
        "class Penalizacion:\n",
        "    def __init__(self, usuario, monto, descripcion):\n",
        "        self.usuario = usuario\n",
        "        self.monto = monto\n",
        "        self.descripcion = descripcion\n",
        "        self.estado = (\"penalizado\")\n",
        "\n",
        "    def datos_pen(self):\n",
        "        print(f\"Usuario: {self.usuario.nombre}\")\n",
        "        print(f\"Monto: {self.monto}\")\n",
        "        print(f\"Descripción: {self.descripcion}\")"
      ],
      "metadata": {
        "id": "eXyqhgTQCQzL"
      },
      "execution_count": 59,
      "outputs": []
    },
    {
      "cell_type": "code",
      "source": [
        "pen1 = Penalizacion(us1, 100, \"Multa por retraso en la devolución\")\n",
        "pen1.datos_pen()"
      ],
      "metadata": {
        "colab": {
          "base_uri": "https://localhost:8080/"
        },
        "id": "aveXAHQqCYK1",
        "outputId": "c55aaf59-f02a-4351-a871-4aaec468e706"
      },
      "execution_count": 70,
      "outputs": [
        {
          "output_type": "stream",
          "name": "stdout",
          "text": [
            "Usuario: Juan\n",
            "Monto: 100\n",
            "Descripción: Multa por retraso en la devolución\n"
          ]
        }
      ]
    },
    {
      "cell_type": "code",
      "source": [
        "class Catalogo:\n",
        "    def __init__(self):\n",
        "        self.materiales = []\n",
        "\n",
        "    def agregar_material(self, material):\n",
        "        self.materiales.append(material)\n",
        "\n",
        "    def mostrar_materiales(self):\n",
        "        for material in self.materiales:\n",
        "            print(f\"- {material.titulo} ({material.__class__.__name__})\")"
      ],
      "metadata": {
        "id": "m7Zi7M_NCcZT"
      },
      "execution_count": 68,
      "outputs": []
    },
    {
      "cell_type": "code",
      "source": [
        "s1 = Libro(\"Don Quijote\", \"123456789\", \"Miguel de Cervantes\", \"Novela\")\n",
        "s2 = Revista(\"El Mundo\", \"123456780\", \"Primera\", \"Mensual\")\n",
        "s3 = MaterialDigital(\"Don Quijote\", \"123456789\", \"PDF\", \"https://cvc.cervantes.es/literatura/lee/coleccion/pdf/quijote.pdf\")"
      ],
      "metadata": {
        "id": "wijaJ2vNCg6V"
      },
      "execution_count": 61,
      "outputs": []
    },
    {
      "cell_type": "code",
      "source": [
        "sucursal1 = Sucursal(\"Sucursal Centro\", Catalogo)\n",
        "sucursal1.agregar_material(s1)\n",
        "sucursal1.agregar_material(s2)\n",
        "sucursal1.agregar_material(s3)\n",
        "bibliotecario1 = Bibliotecario(\"Ana\", \"12345\", sucursal1)\n",
        "\n",
        "libro1 = Libro(\"Cien años de soledad\", \"978-0307262545\", \"Gabriel García Márquez\", \"Novela\")\n",
        "revista1 = Revista(\"National Geographic\", \"1234-5678\", \"Enero 2024\", \"Mensual\")\n",
        "material_digital1 = MaterialDigital(\"El Quijote\", \"978-0060932552\", \"PDF\", \"http://cvc.cervantes.es/literatura/lee/coleccion/pdf/quijote.pdf\")\n",
        "\n",
        "bibliotecario1.agregar_material(libro1)\n",
        "bibliotecario1.agregar_material(revista1)\n",
        "bibliotecario1.agregar_material(material_digital1)\n",
        "\n",
        "usuario1 = Usuario(\"Juan\", \"67890\")\n",
        "usuario1.consultar_catalogo(sucursal1.catalogo)\n",
        "\n",
        "bibliotecario1.gestionar_prestamo(usuario1, libro1)"
      ],
      "metadata": {
        "colab": {
          "base_uri": "https://localhost:8080/"
        },
        "id": "0TM85jlKDxcC",
        "outputId": "b2321607-6015-474a-95c7-90fcec75179d"
      },
      "execution_count": 79,
      "outputs": [
        {
          "output_type": "stream",
          "name": "stdout",
          "text": [
            "- Don Quijote (Libro)\n",
            "- El Mundo (Revista)\n",
            "- Don Quijote (MaterialDigital)\n",
            "- Cien años de soledad (Libro)\n",
            "- National Geographic (Revista)\n",
            "- El Quijote (MaterialDigital)\n",
            "Material 'Cien años de soledad' no disponible\n"
          ]
        }
      ]
    }
  ]
}